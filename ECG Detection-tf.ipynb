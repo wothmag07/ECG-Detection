{
  "nbformat": 4,
  "nbformat_minor": 0,
  "metadata": {
    "colab": {
      "provenance": []
    },
    "kernelspec": {
      "name": "python3",
      "display_name": "Python 3"
    },
    "accelerator": "GPU"
  },
  "cells": [
    {
      "cell_type": "markdown",
      "source": [
        "Mounting Drive to access the dataset"
      ],
      "metadata": {
        "id": "7tTMZ5rUgfXU"
      }
    },
    {
      "cell_type": "code",
      "metadata": {
        "id": "ZFOaTm_U9TnU",
        "outputId": "74f50ee9-b3cc-41b6-fea7-dd61c8364ca7",
        "colab": {
          "base_uri": "https://localhost:8080/"
        }
      },
      "source": [
        "from google.colab import drive\n",
        "drive.mount('/content/drive')"
      ],
      "execution_count": 1,
      "outputs": [
        {
          "output_type": "stream",
          "name": "stdout",
          "text": [
            "Drive already mounted at /content/drive; to attempt to forcibly remount, call drive.mount(\"/content/drive\", force_remount=True).\n"
          ]
        }
      ]
    },
    {
      "cell_type": "markdown",
      "metadata": {
        "id": "V5ZUQ0si_0_t"
      },
      "source": [
        "Importing the libraries"
      ]
    },
    {
      "cell_type": "code",
      "metadata": {
        "id": "A3PB0a0B9td2"
      },
      "source": [
        "import numpy as np\n",
        "import pandas as pd\n",
        "import matplotlib.pyplot as plt\n",
        "from sklearn.metrics import classification_report, f1_score, confusion_matrix, accuracy_score, roc_auc_score\n",
        "from sklearn.model_selection import train_test_split\n",
        "from imblearn.over_sampling import SMOTE, ADASYN\n",
        "from keras.utils.np_utils import to_categorical\n",
        "from sklearn.utils import class_weight"
      ],
      "execution_count": 2,
      "outputs": []
    },
    {
      "cell_type": "markdown",
      "metadata": {
        "id": "_0TLWB-e21bl"
      },
      "source": [
        "Load the dataset from the Google Drive"
      ]
    },
    {
      "cell_type": "code",
      "metadata": {
        "id": "GBmH0C-6BKz_"
      },
      "source": [
        "df = pd.read_csv('/content/drive/My Drive/ECG Project/Dataset/mitbih_train.csv', header=None)\n",
        "df2 = pd.read_csv('/content/drive/My Drive/ECG Project/Dataset/mitbih_test.csv', header=None)\n",
        "df = pd.concat([df, df2], axis=0)"
      ],
      "execution_count": 3,
      "outputs": []
    },
    {
      "cell_type": "code",
      "source": [
        "df.head()"
      ],
      "metadata": {
        "colab": {
          "base_uri": "https://localhost:8080/",
          "height": 235
        },
        "id": "WnTQnoT7XWsh",
        "outputId": "18581559-d346-4162-bbb8-52f0219f0871"
      },
      "execution_count": 4,
      "outputs": [
        {
          "output_type": "execute_result",
          "data": {
            "text/plain": [
              "        0         1         2         3         4         5         6    \\\n",
              "0  0.977941  0.926471  0.681373  0.245098  0.154412  0.191176  0.151961   \n",
              "1  0.960114  0.863248  0.461538  0.196581  0.094017  0.125356  0.099715   \n",
              "2  1.000000  0.659459  0.186486  0.070270  0.070270  0.059459  0.056757   \n",
              "3  0.925414  0.665746  0.541436  0.276243  0.196133  0.077348  0.071823   \n",
              "4  0.967136  1.000000  0.830986  0.586854  0.356808  0.248826  0.145540   \n",
              "\n",
              "        7         8         9    ...  178  179  180  181  182  183  184  185  \\\n",
              "0  0.085784  0.058824  0.049020  ...  0.0  0.0  0.0  0.0  0.0  0.0  0.0  0.0   \n",
              "1  0.088319  0.074074  0.082621  ...  0.0  0.0  0.0  0.0  0.0  0.0  0.0  0.0   \n",
              "2  0.043243  0.054054  0.045946  ...  0.0  0.0  0.0  0.0  0.0  0.0  0.0  0.0   \n",
              "3  0.060773  0.066298  0.058011  ...  0.0  0.0  0.0  0.0  0.0  0.0  0.0  0.0   \n",
              "4  0.089202  0.117371  0.150235  ...  0.0  0.0  0.0  0.0  0.0  0.0  0.0  0.0   \n",
              "\n",
              "   186  187  \n",
              "0  0.0  0.0  \n",
              "1  0.0  0.0  \n",
              "2  0.0  0.0  \n",
              "3  0.0  0.0  \n",
              "4  0.0  0.0  \n",
              "\n",
              "[5 rows x 188 columns]"
            ],
            "text/html": [
              "\n",
              "  <div id=\"df-a16cc10c-fcb6-4796-980d-bcc3d7b1455a\" class=\"colab-df-container\">\n",
              "    <div>\n",
              "<style scoped>\n",
              "    .dataframe tbody tr th:only-of-type {\n",
              "        vertical-align: middle;\n",
              "    }\n",
              "\n",
              "    .dataframe tbody tr th {\n",
              "        vertical-align: top;\n",
              "    }\n",
              "\n",
              "    .dataframe thead th {\n",
              "        text-align: right;\n",
              "    }\n",
              "</style>\n",
              "<table border=\"1\" class=\"dataframe\">\n",
              "  <thead>\n",
              "    <tr style=\"text-align: right;\">\n",
              "      <th></th>\n",
              "      <th>0</th>\n",
              "      <th>1</th>\n",
              "      <th>2</th>\n",
              "      <th>3</th>\n",
              "      <th>4</th>\n",
              "      <th>5</th>\n",
              "      <th>6</th>\n",
              "      <th>7</th>\n",
              "      <th>8</th>\n",
              "      <th>9</th>\n",
              "      <th>...</th>\n",
              "      <th>178</th>\n",
              "      <th>179</th>\n",
              "      <th>180</th>\n",
              "      <th>181</th>\n",
              "      <th>182</th>\n",
              "      <th>183</th>\n",
              "      <th>184</th>\n",
              "      <th>185</th>\n",
              "      <th>186</th>\n",
              "      <th>187</th>\n",
              "    </tr>\n",
              "  </thead>\n",
              "  <tbody>\n",
              "    <tr>\n",
              "      <th>0</th>\n",
              "      <td>0.977941</td>\n",
              "      <td>0.926471</td>\n",
              "      <td>0.681373</td>\n",
              "      <td>0.245098</td>\n",
              "      <td>0.154412</td>\n",
              "      <td>0.191176</td>\n",
              "      <td>0.151961</td>\n",
              "      <td>0.085784</td>\n",
              "      <td>0.058824</td>\n",
              "      <td>0.049020</td>\n",
              "      <td>...</td>\n",
              "      <td>0.0</td>\n",
              "      <td>0.0</td>\n",
              "      <td>0.0</td>\n",
              "      <td>0.0</td>\n",
              "      <td>0.0</td>\n",
              "      <td>0.0</td>\n",
              "      <td>0.0</td>\n",
              "      <td>0.0</td>\n",
              "      <td>0.0</td>\n",
              "      <td>0.0</td>\n",
              "    </tr>\n",
              "    <tr>\n",
              "      <th>1</th>\n",
              "      <td>0.960114</td>\n",
              "      <td>0.863248</td>\n",
              "      <td>0.461538</td>\n",
              "      <td>0.196581</td>\n",
              "      <td>0.094017</td>\n",
              "      <td>0.125356</td>\n",
              "      <td>0.099715</td>\n",
              "      <td>0.088319</td>\n",
              "      <td>0.074074</td>\n",
              "      <td>0.082621</td>\n",
              "      <td>...</td>\n",
              "      <td>0.0</td>\n",
              "      <td>0.0</td>\n",
              "      <td>0.0</td>\n",
              "      <td>0.0</td>\n",
              "      <td>0.0</td>\n",
              "      <td>0.0</td>\n",
              "      <td>0.0</td>\n",
              "      <td>0.0</td>\n",
              "      <td>0.0</td>\n",
              "      <td>0.0</td>\n",
              "    </tr>\n",
              "    <tr>\n",
              "      <th>2</th>\n",
              "      <td>1.000000</td>\n",
              "      <td>0.659459</td>\n",
              "      <td>0.186486</td>\n",
              "      <td>0.070270</td>\n",
              "      <td>0.070270</td>\n",
              "      <td>0.059459</td>\n",
              "      <td>0.056757</td>\n",
              "      <td>0.043243</td>\n",
              "      <td>0.054054</td>\n",
              "      <td>0.045946</td>\n",
              "      <td>...</td>\n",
              "      <td>0.0</td>\n",
              "      <td>0.0</td>\n",
              "      <td>0.0</td>\n",
              "      <td>0.0</td>\n",
              "      <td>0.0</td>\n",
              "      <td>0.0</td>\n",
              "      <td>0.0</td>\n",
              "      <td>0.0</td>\n",
              "      <td>0.0</td>\n",
              "      <td>0.0</td>\n",
              "    </tr>\n",
              "    <tr>\n",
              "      <th>3</th>\n",
              "      <td>0.925414</td>\n",
              "      <td>0.665746</td>\n",
              "      <td>0.541436</td>\n",
              "      <td>0.276243</td>\n",
              "      <td>0.196133</td>\n",
              "      <td>0.077348</td>\n",
              "      <td>0.071823</td>\n",
              "      <td>0.060773</td>\n",
              "      <td>0.066298</td>\n",
              "      <td>0.058011</td>\n",
              "      <td>...</td>\n",
              "      <td>0.0</td>\n",
              "      <td>0.0</td>\n",
              "      <td>0.0</td>\n",
              "      <td>0.0</td>\n",
              "      <td>0.0</td>\n",
              "      <td>0.0</td>\n",
              "      <td>0.0</td>\n",
              "      <td>0.0</td>\n",
              "      <td>0.0</td>\n",
              "      <td>0.0</td>\n",
              "    </tr>\n",
              "    <tr>\n",
              "      <th>4</th>\n",
              "      <td>0.967136</td>\n",
              "      <td>1.000000</td>\n",
              "      <td>0.830986</td>\n",
              "      <td>0.586854</td>\n",
              "      <td>0.356808</td>\n",
              "      <td>0.248826</td>\n",
              "      <td>0.145540</td>\n",
              "      <td>0.089202</td>\n",
              "      <td>0.117371</td>\n",
              "      <td>0.150235</td>\n",
              "      <td>...</td>\n",
              "      <td>0.0</td>\n",
              "      <td>0.0</td>\n",
              "      <td>0.0</td>\n",
              "      <td>0.0</td>\n",
              "      <td>0.0</td>\n",
              "      <td>0.0</td>\n",
              "      <td>0.0</td>\n",
              "      <td>0.0</td>\n",
              "      <td>0.0</td>\n",
              "      <td>0.0</td>\n",
              "    </tr>\n",
              "  </tbody>\n",
              "</table>\n",
              "<p>5 rows × 188 columns</p>\n",
              "</div>\n",
              "    <div class=\"colab-df-buttons\">\n",
              "\n",
              "  <div class=\"colab-df-container\">\n",
              "    <button class=\"colab-df-convert\" onclick=\"convertToInteractive('df-a16cc10c-fcb6-4796-980d-bcc3d7b1455a')\"\n",
              "            title=\"Convert this dataframe to an interactive table.\"\n",
              "            style=\"display:none;\">\n",
              "\n",
              "  <svg xmlns=\"http://www.w3.org/2000/svg\" height=\"24px\" viewBox=\"0 -960 960 960\">\n",
              "    <path d=\"M120-120v-720h720v720H120Zm60-500h600v-160H180v160Zm220 220h160v-160H400v160Zm0 220h160v-160H400v160ZM180-400h160v-160H180v160Zm440 0h160v-160H620v160ZM180-180h160v-160H180v160Zm440 0h160v-160H620v160Z\"/>\n",
              "  </svg>\n",
              "    </button>\n",
              "\n",
              "  <style>\n",
              "    .colab-df-container {\n",
              "      display:flex;\n",
              "      gap: 12px;\n",
              "    }\n",
              "\n",
              "    .colab-df-convert {\n",
              "      background-color: #E8F0FE;\n",
              "      border: none;\n",
              "      border-radius: 50%;\n",
              "      cursor: pointer;\n",
              "      display: none;\n",
              "      fill: #1967D2;\n",
              "      height: 32px;\n",
              "      padding: 0 0 0 0;\n",
              "      width: 32px;\n",
              "    }\n",
              "\n",
              "    .colab-df-convert:hover {\n",
              "      background-color: #E2EBFA;\n",
              "      box-shadow: 0px 1px 2px rgba(60, 64, 67, 0.3), 0px 1px 3px 1px rgba(60, 64, 67, 0.15);\n",
              "      fill: #174EA6;\n",
              "    }\n",
              "\n",
              "    .colab-df-buttons div {\n",
              "      margin-bottom: 4px;\n",
              "    }\n",
              "\n",
              "    [theme=dark] .colab-df-convert {\n",
              "      background-color: #3B4455;\n",
              "      fill: #D2E3FC;\n",
              "    }\n",
              "\n",
              "    [theme=dark] .colab-df-convert:hover {\n",
              "      background-color: #434B5C;\n",
              "      box-shadow: 0px 1px 3px 1px rgba(0, 0, 0, 0.15);\n",
              "      filter: drop-shadow(0px 1px 2px rgba(0, 0, 0, 0.3));\n",
              "      fill: #FFFFFF;\n",
              "    }\n",
              "  </style>\n",
              "\n",
              "    <script>\n",
              "      const buttonEl =\n",
              "        document.querySelector('#df-a16cc10c-fcb6-4796-980d-bcc3d7b1455a button.colab-df-convert');\n",
              "      buttonEl.style.display =\n",
              "        google.colab.kernel.accessAllowed ? 'block' : 'none';\n",
              "\n",
              "      async function convertToInteractive(key) {\n",
              "        const element = document.querySelector('#df-a16cc10c-fcb6-4796-980d-bcc3d7b1455a');\n",
              "        const dataTable =\n",
              "          await google.colab.kernel.invokeFunction('convertToInteractive',\n",
              "                                                    [key], {});\n",
              "        if (!dataTable) return;\n",
              "\n",
              "        const docLinkHtml = 'Like what you see? Visit the ' +\n",
              "          '<a target=\"_blank\" href=https://colab.research.google.com/notebooks/data_table.ipynb>data table notebook</a>'\n",
              "          + ' to learn more about interactive tables.';\n",
              "        element.innerHTML = '';\n",
              "        dataTable['output_type'] = 'display_data';\n",
              "        await google.colab.output.renderOutput(dataTable, element);\n",
              "        const docLink = document.createElement('div');\n",
              "        docLink.innerHTML = docLinkHtml;\n",
              "        element.appendChild(docLink);\n",
              "      }\n",
              "    </script>\n",
              "  </div>\n",
              "\n",
              "\n",
              "<div id=\"df-c251d063-455b-43d6-86f7-c81ed302b971\">\n",
              "  <button class=\"colab-df-quickchart\" onclick=\"quickchart('df-c251d063-455b-43d6-86f7-c81ed302b971')\"\n",
              "            title=\"Suggest charts.\"\n",
              "            style=\"display:none;\">\n",
              "\n",
              "<svg xmlns=\"http://www.w3.org/2000/svg\" height=\"24px\"viewBox=\"0 0 24 24\"\n",
              "     width=\"24px\">\n",
              "    <g>\n",
              "        <path d=\"M19 3H5c-1.1 0-2 .9-2 2v14c0 1.1.9 2 2 2h14c1.1 0 2-.9 2-2V5c0-1.1-.9-2-2-2zM9 17H7v-7h2v7zm4 0h-2V7h2v10zm4 0h-2v-4h2v4z\"/>\n",
              "    </g>\n",
              "</svg>\n",
              "  </button>\n",
              "\n",
              "<style>\n",
              "  .colab-df-quickchart {\n",
              "    background-color: #E8F0FE;\n",
              "    border: none;\n",
              "    border-radius: 50%;\n",
              "    cursor: pointer;\n",
              "    display: none;\n",
              "    fill: #1967D2;\n",
              "    height: 32px;\n",
              "    padding: 0 0 0 0;\n",
              "    width: 32px;\n",
              "  }\n",
              "\n",
              "  .colab-df-quickchart:hover {\n",
              "    background-color: #E2EBFA;\n",
              "    box-shadow: 0px 1px 2px rgba(60, 64, 67, 0.3), 0px 1px 3px 1px rgba(60, 64, 67, 0.15);\n",
              "    fill: #174EA6;\n",
              "  }\n",
              "\n",
              "  [theme=dark] .colab-df-quickchart {\n",
              "    background-color: #3B4455;\n",
              "    fill: #D2E3FC;\n",
              "  }\n",
              "\n",
              "  [theme=dark] .colab-df-quickchart:hover {\n",
              "    background-color: #434B5C;\n",
              "    box-shadow: 0px 1px 3px 1px rgba(0, 0, 0, 0.15);\n",
              "    filter: drop-shadow(0px 1px 2px rgba(0, 0, 0, 0.3));\n",
              "    fill: #FFFFFF;\n",
              "  }\n",
              "</style>\n",
              "\n",
              "  <script>\n",
              "    async function quickchart(key) {\n",
              "      const charts = await google.colab.kernel.invokeFunction(\n",
              "          'suggestCharts', [key], {});\n",
              "    }\n",
              "    (() => {\n",
              "      let quickchartButtonEl =\n",
              "        document.querySelector('#df-c251d063-455b-43d6-86f7-c81ed302b971 button');\n",
              "      quickchartButtonEl.style.display =\n",
              "        google.colab.kernel.accessAllowed ? 'block' : 'none';\n",
              "    })();\n",
              "  </script>\n",
              "</div>\n",
              "    </div>\n",
              "  </div>\n"
            ]
          },
          "metadata": {},
          "execution_count": 4
        }
      ]
    },
    {
      "cell_type": "markdown",
      "source": [
        "**Dataset Info : **"
      ],
      "metadata": {
        "id": "6c8Kj8S9gq5l"
      }
    },
    {
      "cell_type": "markdown",
      "metadata": {
        "id": "ADf3yEMK2Mmy"
      },
      "source": [
        "Arrhythmia Dataset\n",
        "\n",
        "Number of Samples: 109446\n",
        "\n",
        "Number of Categories: 5\n",
        "\n",
        "Sampling Frequency: 125Hz\n",
        "\n",
        "Classes: ['N': 0, 'S': 1, 'V': 2, 'F': 3, 'Q': 4]\n",
        "\n",
        "-N : Non-ecotic beats (normal beat)\n",
        "\n",
        "-S : Supraventricular ectopic beats\n",
        "\n",
        "-V : Ventricular ectopic beats\n",
        "\n",
        "-F : Fusion Beats\n",
        "\n",
        "-Q : Unknown Beats"
      ]
    },
    {
      "cell_type": "markdown",
      "source": [
        "Samples on each classes"
      ],
      "metadata": {
        "id": "4VlR9h5ag5Dn"
      }
    },
    {
      "cell_type": "code",
      "metadata": {
        "id": "Zq18s_U7BStC",
        "outputId": "639225e9-46d4-4991-e0d7-62db522080e3",
        "colab": {
          "base_uri": "https://localhost:8080/"
        }
      },
      "source": [
        "df[187]=df[187].astype(int)\n",
        "df[187].value_counts()"
      ],
      "execution_count": 5,
      "outputs": [
        {
          "output_type": "execute_result",
          "data": {
            "text/plain": [
              "0    90589\n",
              "4     8039\n",
              "2     7236\n",
              "1     2779\n",
              "3      803\n",
              "Name: 187, dtype: int64"
            ]
          },
          "metadata": {},
          "execution_count": 5
        }
      ]
    },
    {
      "cell_type": "code",
      "metadata": {
        "id": "mmN_IUE3BV7_"
      },
      "source": [
        "X=df.iloc[:,:-1]\n",
        "y=df.iloc[:, -1].astype(int)"
      ],
      "execution_count": 6,
      "outputs": []
    },
    {
      "cell_type": "markdown",
      "metadata": {
        "id": "dYkGYrxU3M-E"
      },
      "source": [
        "Splitting the Dataset into train and test values"
      ]
    },
    {
      "cell_type": "code",
      "metadata": {
        "id": "vd3qMlT1BWGe"
      },
      "source": [
        "from sklearn.model_selection import train_test_split\n",
        "X_train,X_test,y_train,y_test=train_test_split(X,y,test_size=0.3,random_state=42,shuffle=True, stratify=y)"
      ],
      "execution_count": 7,
      "outputs": []
    },
    {
      "cell_type": "code",
      "source": [
        "print(\"X_train\", X_train.shape)\n",
        "print(\"y_train\", y_train.shape)\n",
        "print(\"X_test\", X_test.shape)\n",
        "print(\"y_test\", y_test.shape)"
      ],
      "metadata": {
        "colab": {
          "base_uri": "https://localhost:8080/"
        },
        "id": "E2K0CZ0uWaQ_",
        "outputId": "413878e3-9f2f-4078-e220-ac4ba640fa82"
      },
      "execution_count": 8,
      "outputs": [
        {
          "output_type": "stream",
          "name": "stdout",
          "text": [
            "X_train (76612, 187)\n",
            "y_train (76612,)\n",
            "X_test (32834, 187)\n",
            "y_test (32834,)\n"
          ]
        }
      ]
    },
    {
      "cell_type": "markdown",
      "metadata": {
        "id": "q9Dhubnn3Edr"
      },
      "source": [
        "Applying the ADASYN Algorithm to handle imbalanced dataset"
      ]
    },
    {
      "cell_type": "code",
      "metadata": {
        "id": "RUjFQ1tzBWDN"
      },
      "source": [
        "asy = ADASYN(random_state=42)\n",
        "X_res, y_res = asy.fit_resample(X_train, y_train)"
      ],
      "execution_count": 9,
      "outputs": []
    },
    {
      "cell_type": "markdown",
      "metadata": {
        "id": "nZAzg0XB3VK2"
      },
      "source": [
        "Shape of Train and Test values"
      ]
    },
    {
      "cell_type": "code",
      "metadata": {
        "id": "CloB9toIBWJA"
      },
      "source": [
        "\n",
        "X_train=np.array(X_res)\n",
        "X_test=np.array(X_test)\n",
        "y_train=np.array(y_res)\n",
        "y_test=np.array(y_test)"
      ],
      "execution_count": 10,
      "outputs": []
    },
    {
      "cell_type": "code",
      "metadata": {
        "id": "pmiE8DjifxjG",
        "outputId": "ca67fa48-e33e-4796-952b-a0e280c50f85",
        "colab": {
          "base_uri": "https://localhost:8080/"
        }
      },
      "source": [
        "\n",
        "print(\"X_train\", X_train.shape)\n",
        "print(\"y_train\", y_train.shape)\n",
        "print(\"X_test\", X_test.shape)\n",
        "print(\"y_test\", y_test.shape)"
      ],
      "execution_count": 11,
      "outputs": [
        {
          "output_type": "stream",
          "name": "stdout",
          "text": [
            "X_train (317133, 187)\n",
            "y_train (317133,)\n",
            "X_test (32834, 187)\n",
            "y_test (32834,)\n"
          ]
        }
      ]
    },
    {
      "cell_type": "markdown",
      "metadata": {
        "id": "g7aXZqFR3916"
      },
      "source": [
        "Expanding the X_train and X_test Dimensions for model architecture to match"
      ]
    },
    {
      "cell_type": "code",
      "metadata": {
        "id": "a57_J9m8BWOB"
      },
      "source": [
        "X_train = np.expand_dims(X_train, 2)\n",
        "X_test = np.expand_dims(X_test, 2)"
      ],
      "execution_count": 12,
      "outputs": []
    },
    {
      "cell_type": "markdown",
      "metadata": {
        "id": "piX0P1974GSj"
      },
      "source": [
        "Converting the Targets into categorical form"
      ]
    },
    {
      "cell_type": "code",
      "metadata": {
        "id": "iZC5xDNHhZDt"
      },
      "source": [
        "from keras.utils.np_utils import to_categorical\n",
        "y_train=to_categorical(y_train)\n",
        "y_test=to_categorical(y_test)"
      ],
      "execution_count": 13,
      "outputs": []
    },
    {
      "cell_type": "markdown",
      "metadata": {
        "id": "B_atmKFN4G2z"
      },
      "source": [
        "After expanding the dimension of train and test values"
      ]
    },
    {
      "cell_type": "code",
      "metadata": {
        "id": "9v5H7NnwdBLl",
        "outputId": "f7e26e35-a648-4924-e434-0cb974639525",
        "colab": {
          "base_uri": "https://localhost:8080/"
        }
      },
      "source": [
        "\n",
        "print(\"X_train\", X_train.shape)\n",
        "print(\"y_train\", y_train.shape)\n",
        "print(\"X_test\", X_test.shape)\n",
        "print(\"y_test\", y_test.shape)"
      ],
      "execution_count": 14,
      "outputs": [
        {
          "output_type": "stream",
          "name": "stdout",
          "text": [
            "X_train (317133, 187, 1)\n",
            "y_train (317133, 5)\n",
            "X_test (32834, 187, 1)\n",
            "y_test (32834, 5)\n"
          ]
        }
      ]
    },
    {
      "cell_type": "markdown",
      "metadata": {
        "id": "yTYoYAVP4bn0"
      },
      "source": [
        "Importing the Libraries for Neural Network"
      ]
    },
    {
      "cell_type": "code",
      "metadata": {
        "id": "AS-bBF-ShZSn"
      },
      "source": [
        "import tensorflow as tf\n",
        "from tensorflow.keras.models import Model,model_from_json\n",
        "from tensorflow.keras.layers import Input, Dense, Convolution1D, MaxPool1D,Conv1D, MaxPooling1D, Softmax, Add, Flatten, Activation , Dropout, BatchNormalization\n",
        "from tensorflow.keras import backend as K\n",
        "from tensorflow.keras.optimizers import Adam\n",
        "from tensorflow.keras.callbacks import Callback, LearningRateScheduler, ModelCheckpoint, EarlyStopping"
      ],
      "execution_count": 15,
      "outputs": []
    },
    {
      "cell_type": "markdown",
      "metadata": {
        "id": "56tvAmKT4ibJ"
      },
      "source": [
        "Neural Network 1"
      ]
    },
    {
      "cell_type": "code",
      "metadata": {
        "id": "XmAjgrwss1BO",
        "outputId": "5a91b979-9d0c-4f83-bfef-7b3c00f4987c",
        "colab": {
          "base_uri": "https://localhost:8080/"
        }
      },
      "source": [
        "n_obs, feature, depth = X_train.shape\n",
        "batch_size = 500\n",
        "K.clear_session()\n",
        "\n",
        "inp = Input(shape=(feature, depth))\n",
        "C = Conv1D(filters=32, kernel_size=5, strides=1)(inp)\n",
        "\n",
        "C11 = Conv1D(filters=32, kernel_size=5, strides=1, padding='same')(C)\n",
        "A11 = Activation(\"relu\")(C11)\n",
        "C12 = Conv1D(filters=32, kernel_size=5, strides=1, padding='same')(A11)\n",
        "S11 = Add()([C12, C])\n",
        "A12 = Activation(\"relu\")(S11)\n",
        "M11 = MaxPooling1D(pool_size=5, strides=2)(A12)\n",
        "\n",
        "C21 = Conv1D(filters=32, kernel_size=5, strides=1, padding='same')(M11)\n",
        "A21 = Activation(\"relu\")(C21)\n",
        "C22 = Conv1D(filters=32, kernel_size=5, strides=1, padding='same')(A21)\n",
        "S21 = Add()([C22, M11])\n",
        "A22 = Activation(\"relu\")(S11)\n",
        "M21 = MaxPooling1D(pool_size=5, strides=2)(A22)\n",
        "\n",
        "\n",
        "C31 = Conv1D(filters=32, kernel_size=5, strides=1, padding='same')(M21)\n",
        "A31 = Activation(\"relu\")(C31)\n",
        "C32 = Conv1D(filters=32, kernel_size=5, strides=1, padding='same')(A31)\n",
        "S31 = Add()([C32, M21])\n",
        "A32 = Activation(\"relu\")(S31)\n",
        "M31 = MaxPooling1D(pool_size=5, strides=2)(A32)\n",
        "\n",
        "\n",
        "C41 = Conv1D(filters=32, kernel_size=5, strides=1, padding='same')(M31)\n",
        "A41 = Activation(\"relu\")(C41)\n",
        "C42 = Conv1D(filters=32, kernel_size=5, strides=1, padding='same')(A41)\n",
        "S41 = Add()([C42, M31])\n",
        "A42 = Activation(\"relu\")(S41)\n",
        "M41 = MaxPooling1D(pool_size=5, strides=2)(A42)\n",
        "\n",
        "\n",
        "C51 = Conv1D(filters=32, kernel_size=5, strides=1, padding='same')(M41)\n",
        "A51 = Activation(\"relu\")(C51)\n",
        "C52 = Conv1D(filters=32, kernel_size=5, strides=1, padding='same')(A51)\n",
        "S51 = Add()([C52, M41])\n",
        "A52 = Activation(\"relu\")(S51)\n",
        "M51 = MaxPooling1D(pool_size=5, strides=2)(A52)\n",
        "\n",
        "F1 = Flatten()(M51)\n",
        "\n",
        "D1 = Dense(32)(F1)\n",
        "A6 = Activation(\"relu\")(D1)\n",
        "D2 = Dense(32)(A6)\n",
        "D3 = Dense(5)(D2)\n",
        "A7 = Softmax()(D3)\n",
        "\n",
        "model = Model(inputs=inp, outputs=A7)\n",
        "\n",
        "model.summary()\n"
      ],
      "execution_count": 16,
      "outputs": [
        {
          "output_type": "stream",
          "name": "stdout",
          "text": [
            "Model: \"model\"\n",
            "__________________________________________________________________________________________________\n",
            " Layer (type)                   Output Shape         Param #     Connected to                     \n",
            "==================================================================================================\n",
            " input_1 (InputLayer)           [(None, 187, 1)]     0           []                               \n",
            "                                                                                                  \n",
            " conv1d (Conv1D)                (None, 183, 32)      192         ['input_1[0][0]']                \n",
            "                                                                                                  \n",
            " conv1d_1 (Conv1D)              (None, 183, 32)      5152        ['conv1d[0][0]']                 \n",
            "                                                                                                  \n",
            " activation (Activation)        (None, 183, 32)      0           ['conv1d_1[0][0]']               \n",
            "                                                                                                  \n",
            " conv1d_2 (Conv1D)              (None, 183, 32)      5152        ['activation[0][0]']             \n",
            "                                                                                                  \n",
            " add (Add)                      (None, 183, 32)      0           ['conv1d_2[0][0]',               \n",
            "                                                                  'conv1d[0][0]']                 \n",
            "                                                                                                  \n",
            " activation_3 (Activation)      (None, 183, 32)      0           ['add[0][0]']                    \n",
            "                                                                                                  \n",
            " max_pooling1d_1 (MaxPooling1D)  (None, 90, 32)      0           ['activation_3[0][0]']           \n",
            "                                                                                                  \n",
            " conv1d_5 (Conv1D)              (None, 90, 32)       5152        ['max_pooling1d_1[0][0]']        \n",
            "                                                                                                  \n",
            " activation_4 (Activation)      (None, 90, 32)       0           ['conv1d_5[0][0]']               \n",
            "                                                                                                  \n",
            " conv1d_6 (Conv1D)              (None, 90, 32)       5152        ['activation_4[0][0]']           \n",
            "                                                                                                  \n",
            " add_2 (Add)                    (None, 90, 32)       0           ['conv1d_6[0][0]',               \n",
            "                                                                  'max_pooling1d_1[0][0]']        \n",
            "                                                                                                  \n",
            " activation_5 (Activation)      (None, 90, 32)       0           ['add_2[0][0]']                  \n",
            "                                                                                                  \n",
            " max_pooling1d_2 (MaxPooling1D)  (None, 43, 32)      0           ['activation_5[0][0]']           \n",
            "                                                                                                  \n",
            " conv1d_7 (Conv1D)              (None, 43, 32)       5152        ['max_pooling1d_2[0][0]']        \n",
            "                                                                                                  \n",
            " activation_6 (Activation)      (None, 43, 32)       0           ['conv1d_7[0][0]']               \n",
            "                                                                                                  \n",
            " conv1d_8 (Conv1D)              (None, 43, 32)       5152        ['activation_6[0][0]']           \n",
            "                                                                                                  \n",
            " add_3 (Add)                    (None, 43, 32)       0           ['conv1d_8[0][0]',               \n",
            "                                                                  'max_pooling1d_2[0][0]']        \n",
            "                                                                                                  \n",
            " activation_7 (Activation)      (None, 43, 32)       0           ['add_3[0][0]']                  \n",
            "                                                                                                  \n",
            " max_pooling1d_3 (MaxPooling1D)  (None, 20, 32)      0           ['activation_7[0][0]']           \n",
            "                                                                                                  \n",
            " conv1d_9 (Conv1D)              (None, 20, 32)       5152        ['max_pooling1d_3[0][0]']        \n",
            "                                                                                                  \n",
            " activation_8 (Activation)      (None, 20, 32)       0           ['conv1d_9[0][0]']               \n",
            "                                                                                                  \n",
            " conv1d_10 (Conv1D)             (None, 20, 32)       5152        ['activation_8[0][0]']           \n",
            "                                                                                                  \n",
            " add_4 (Add)                    (None, 20, 32)       0           ['conv1d_10[0][0]',              \n",
            "                                                                  'max_pooling1d_3[0][0]']        \n",
            "                                                                                                  \n",
            " activation_9 (Activation)      (None, 20, 32)       0           ['add_4[0][0]']                  \n",
            "                                                                                                  \n",
            " max_pooling1d_4 (MaxPooling1D)  (None, 8, 32)       0           ['activation_9[0][0]']           \n",
            "                                                                                                  \n",
            " flatten (Flatten)              (None, 256)          0           ['max_pooling1d_4[0][0]']        \n",
            "                                                                                                  \n",
            " dense (Dense)                  (None, 32)           8224        ['flatten[0][0]']                \n",
            "                                                                                                  \n",
            " activation_10 (Activation)     (None, 32)           0           ['dense[0][0]']                  \n",
            "                                                                                                  \n",
            " dense_1 (Dense)                (None, 32)           1056        ['activation_10[0][0]']          \n",
            "                                                                                                  \n",
            " dense_2 (Dense)                (None, 5)            165         ['dense_1[0][0]']                \n",
            "                                                                                                  \n",
            " softmax (Softmax)              (None, 5)            0           ['dense_2[0][0]']                \n",
            "                                                                                                  \n",
            "==================================================================================================\n",
            "Total params: 50,853\n",
            "Trainable params: 50,853\n",
            "Non-trainable params: 0\n",
            "__________________________________________________________________________________________________\n"
          ]
        }
      ]
    },
    {
      "cell_type": "markdown",
      "metadata": {
        "id": "xtzWF4Q94sV_"
      },
      "source": [
        "Training Phase"
      ]
    },
    {
      "cell_type": "code",
      "metadata": {
        "id": "bNStj5qeZAZk",
        "outputId": "b2f49a08-ee7b-403b-8c34-6fcfd2d1685b",
        "colab": {
          "base_uri": "https://localhost:8080/"
        }
      },
      "source": [
        "import math\n",
        "batch_size = 512\n",
        "def exp_decay(epoch):\n",
        "    initial_lrate = 3e-5\n",
        "    k = 0.75\n",
        "    t = n_obs//(10000 * batch_size)  # every epoch we do n_obs/batch_size iteration\n",
        "    lrate = initial_lrate * math.exp(-k*t)\n",
        "    return lrate\n",
        "\n",
        "lrate = LearningRateScheduler(exp_decay)\n",
        "#checkpoint=ModelCheckpoint('model.h5',monitor='val_loss',mode='min',save_best_only=True)\n",
        "adam = Adam(learning_rate = 3e-5, beta_1 = 0.9, beta_2 = 0.999)\n",
        "model.compile(loss='categorical_crossentropy', optimizer='adam', metrics=['accuracy'])\n",
        "history = model.fit(X_train, y_train,\n",
        "                    epochs=100,\n",
        "                    batch_size=batch_size,\n",
        "                    verbose=2,\n",
        "                    validation_data=(X_test, y_test),\n",
        "                    callbacks=[lrate])\n",
        "\n"
      ],
      "execution_count": 17,
      "outputs": [
        {
          "output_type": "stream",
          "name": "stdout",
          "text": [
            "Epoch 1/100\n",
            "620/620 - 19s - loss: 1.2144 - accuracy: 0.5034 - val_loss: 1.0146 - val_accuracy: 0.5397 - lr: 3.0000e-05 - 19s/epoch - 30ms/step\n",
            "Epoch 2/100\n",
            "620/620 - 9s - loss: 0.8554 - accuracy: 0.6652 - val_loss: 0.7680 - val_accuracy: 0.7108 - lr: 3.0000e-05 - 9s/epoch - 15ms/step\n",
            "Epoch 3/100\n",
            "620/620 - 9s - loss: 0.6836 - accuracy: 0.7530 - val_loss: 0.7119 - val_accuracy: 0.7498 - lr: 3.0000e-05 - 9s/epoch - 14ms/step\n",
            "Epoch 4/100\n",
            "620/620 - 9s - loss: 0.5731 - accuracy: 0.8021 - val_loss: 0.6054 - val_accuracy: 0.7787 - lr: 3.0000e-05 - 9s/epoch - 14ms/step\n",
            "Epoch 5/100\n",
            "620/620 - 9s - loss: 0.4969 - accuracy: 0.8289 - val_loss: 0.5065 - val_accuracy: 0.8157 - lr: 3.0000e-05 - 9s/epoch - 15ms/step\n",
            "Epoch 6/100\n",
            "620/620 - 9s - loss: 0.4439 - accuracy: 0.8449 - val_loss: 0.4816 - val_accuracy: 0.8268 - lr: 3.0000e-05 - 9s/epoch - 15ms/step\n",
            "Epoch 7/100\n",
            "620/620 - 9s - loss: 0.4030 - accuracy: 0.8585 - val_loss: 0.4600 - val_accuracy: 0.8254 - lr: 3.0000e-05 - 9s/epoch - 14ms/step\n",
            "Epoch 8/100\n",
            "620/620 - 9s - loss: 0.3703 - accuracy: 0.8691 - val_loss: 0.3986 - val_accuracy: 0.8522 - lr: 3.0000e-05 - 9s/epoch - 15ms/step\n",
            "Epoch 9/100\n",
            "620/620 - 9s - loss: 0.3428 - accuracy: 0.8778 - val_loss: 0.3516 - val_accuracy: 0.8739 - lr: 3.0000e-05 - 9s/epoch - 15ms/step\n",
            "Epoch 10/100\n",
            "620/620 - 9s - loss: 0.3209 - accuracy: 0.8861 - val_loss: 0.4217 - val_accuracy: 0.8430 - lr: 3.0000e-05 - 9s/epoch - 15ms/step\n",
            "Epoch 11/100\n",
            "620/620 - 9s - loss: 0.3014 - accuracy: 0.8935 - val_loss: 0.4327 - val_accuracy: 0.8403 - lr: 3.0000e-05 - 9s/epoch - 14ms/step\n",
            "Epoch 12/100\n",
            "620/620 - 9s - loss: 0.2831 - accuracy: 0.9010 - val_loss: 0.3378 - val_accuracy: 0.8790 - lr: 3.0000e-05 - 9s/epoch - 15ms/step\n",
            "Epoch 13/100\n",
            "620/620 - 9s - loss: 0.2691 - accuracy: 0.9060 - val_loss: 0.3459 - val_accuracy: 0.8756 - lr: 3.0000e-05 - 9s/epoch - 14ms/step\n",
            "Epoch 14/100\n",
            "620/620 - 9s - loss: 0.2549 - accuracy: 0.9117 - val_loss: 0.3349 - val_accuracy: 0.8820 - lr: 3.0000e-05 - 9s/epoch - 14ms/step\n",
            "Epoch 15/100\n",
            "620/620 - 9s - loss: 0.2419 - accuracy: 0.9168 - val_loss: 0.3949 - val_accuracy: 0.8598 - lr: 3.0000e-05 - 9s/epoch - 14ms/step\n",
            "Epoch 16/100\n",
            "620/620 - 9s - loss: 0.2311 - accuracy: 0.9213 - val_loss: 0.3252 - val_accuracy: 0.8884 - lr: 3.0000e-05 - 9s/epoch - 14ms/step\n",
            "Epoch 17/100\n",
            "620/620 - 9s - loss: 0.2197 - accuracy: 0.9258 - val_loss: 0.3589 - val_accuracy: 0.8766 - lr: 3.0000e-05 - 9s/epoch - 14ms/step\n",
            "Epoch 18/100\n",
            "620/620 - 9s - loss: 0.2115 - accuracy: 0.9290 - val_loss: 0.3591 - val_accuracy: 0.8740 - lr: 3.0000e-05 - 9s/epoch - 14ms/step\n",
            "Epoch 19/100\n",
            "620/620 - 9s - loss: 0.2010 - accuracy: 0.9329 - val_loss: 0.3308 - val_accuracy: 0.8867 - lr: 3.0000e-05 - 9s/epoch - 14ms/step\n",
            "Epoch 20/100\n",
            "620/620 - 9s - loss: 0.1938 - accuracy: 0.9356 - val_loss: 0.3416 - val_accuracy: 0.8859 - lr: 3.0000e-05 - 9s/epoch - 15ms/step\n",
            "Epoch 21/100\n",
            "620/620 - 9s - loss: 0.1861 - accuracy: 0.9386 - val_loss: 0.2484 - val_accuracy: 0.9165 - lr: 3.0000e-05 - 9s/epoch - 14ms/step\n",
            "Epoch 22/100\n",
            "620/620 - 9s - loss: 0.1792 - accuracy: 0.9413 - val_loss: 0.3245 - val_accuracy: 0.8889 - lr: 3.0000e-05 - 9s/epoch - 14ms/step\n",
            "Epoch 23/100\n",
            "620/620 - 9s - loss: 0.1716 - accuracy: 0.9444 - val_loss: 0.3188 - val_accuracy: 0.8919 - lr: 3.0000e-05 - 9s/epoch - 14ms/step\n",
            "Epoch 24/100\n",
            "620/620 - 9s - loss: 0.1655 - accuracy: 0.9465 - val_loss: 0.3234 - val_accuracy: 0.8926 - lr: 3.0000e-05 - 9s/epoch - 15ms/step\n",
            "Epoch 25/100\n",
            "620/620 - 9s - loss: 0.1598 - accuracy: 0.9487 - val_loss: 0.2842 - val_accuracy: 0.9062 - lr: 3.0000e-05 - 9s/epoch - 14ms/step\n",
            "Epoch 26/100\n",
            "620/620 - 9s - loss: 0.1545 - accuracy: 0.9509 - val_loss: 0.3139 - val_accuracy: 0.8955 - lr: 3.0000e-05 - 9s/epoch - 15ms/step\n",
            "Epoch 27/100\n",
            "620/620 - 9s - loss: 0.1491 - accuracy: 0.9527 - val_loss: 0.3139 - val_accuracy: 0.8976 - lr: 3.0000e-05 - 9s/epoch - 15ms/step\n",
            "Epoch 28/100\n",
            "620/620 - 9s - loss: 0.1447 - accuracy: 0.9540 - val_loss: 0.2565 - val_accuracy: 0.9172 - lr: 3.0000e-05 - 9s/epoch - 14ms/step\n",
            "Epoch 29/100\n",
            "620/620 - 9s - loss: 0.1399 - accuracy: 0.9560 - val_loss: 0.2544 - val_accuracy: 0.9187 - lr: 3.0000e-05 - 9s/epoch - 15ms/step\n",
            "Epoch 30/100\n",
            "620/620 - 9s - loss: 0.1352 - accuracy: 0.9579 - val_loss: 0.2588 - val_accuracy: 0.9182 - lr: 3.0000e-05 - 9s/epoch - 15ms/step\n",
            "Epoch 31/100\n",
            "620/620 - 9s - loss: 0.1317 - accuracy: 0.9591 - val_loss: 0.2486 - val_accuracy: 0.9198 - lr: 3.0000e-05 - 9s/epoch - 14ms/step\n",
            "Epoch 32/100\n",
            "620/620 - 9s - loss: 0.1274 - accuracy: 0.9610 - val_loss: 0.2912 - val_accuracy: 0.9051 - lr: 3.0000e-05 - 9s/epoch - 14ms/step\n",
            "Epoch 33/100\n",
            "620/620 - 9s - loss: 0.1244 - accuracy: 0.9617 - val_loss: 0.2625 - val_accuracy: 0.9180 - lr: 3.0000e-05 - 9s/epoch - 14ms/step\n",
            "Epoch 34/100\n",
            "620/620 - 9s - loss: 0.1208 - accuracy: 0.9629 - val_loss: 0.3219 - val_accuracy: 0.8969 - lr: 3.0000e-05 - 9s/epoch - 14ms/step\n",
            "Epoch 35/100\n",
            "620/620 - 9s - loss: 0.1172 - accuracy: 0.9646 - val_loss: 0.2138 - val_accuracy: 0.9327 - lr: 3.0000e-05 - 9s/epoch - 15ms/step\n",
            "Epoch 36/100\n",
            "620/620 - 9s - loss: 0.1144 - accuracy: 0.9653 - val_loss: 0.1907 - val_accuracy: 0.9435 - lr: 3.0000e-05 - 9s/epoch - 14ms/step\n",
            "Epoch 37/100\n",
            "620/620 - 9s - loss: 0.1112 - accuracy: 0.9668 - val_loss: 0.3531 - val_accuracy: 0.8868 - lr: 3.0000e-05 - 9s/epoch - 15ms/step\n",
            "Epoch 38/100\n",
            "620/620 - 9s - loss: 0.1083 - accuracy: 0.9676 - val_loss: 0.2215 - val_accuracy: 0.9320 - lr: 3.0000e-05 - 9s/epoch - 15ms/step\n",
            "Epoch 39/100\n",
            "620/620 - 9s - loss: 0.1055 - accuracy: 0.9687 - val_loss: 0.1950 - val_accuracy: 0.9416 - lr: 3.0000e-05 - 9s/epoch - 14ms/step\n",
            "Epoch 40/100\n",
            "620/620 - 9s - loss: 0.1035 - accuracy: 0.9693 - val_loss: 0.2489 - val_accuracy: 0.9242 - lr: 3.0000e-05 - 9s/epoch - 14ms/step\n",
            "Epoch 41/100\n",
            "620/620 - 9s - loss: 0.1007 - accuracy: 0.9706 - val_loss: 0.2479 - val_accuracy: 0.9253 - lr: 3.0000e-05 - 9s/epoch - 15ms/step\n",
            "Epoch 42/100\n",
            "620/620 - 9s - loss: 0.0993 - accuracy: 0.9708 - val_loss: 0.2334 - val_accuracy: 0.9296 - lr: 3.0000e-05 - 9s/epoch - 15ms/step\n",
            "Epoch 43/100\n",
            "620/620 - 9s - loss: 0.0964 - accuracy: 0.9715 - val_loss: 0.1881 - val_accuracy: 0.9458 - lr: 3.0000e-05 - 9s/epoch - 14ms/step\n",
            "Epoch 44/100\n",
            "620/620 - 9s - loss: 0.0936 - accuracy: 0.9726 - val_loss: 0.1891 - val_accuracy: 0.9460 - lr: 3.0000e-05 - 9s/epoch - 15ms/step\n",
            "Epoch 45/100\n",
            "620/620 - 9s - loss: 0.0918 - accuracy: 0.9734 - val_loss: 0.2099 - val_accuracy: 0.9386 - lr: 3.0000e-05 - 9s/epoch - 14ms/step\n",
            "Epoch 46/100\n",
            "620/620 - 9s - loss: 0.0900 - accuracy: 0.9740 - val_loss: 0.2196 - val_accuracy: 0.9349 - lr: 3.0000e-05 - 9s/epoch - 14ms/step\n",
            "Epoch 47/100\n",
            "620/620 - 9s - loss: 0.0889 - accuracy: 0.9742 - val_loss: 0.2445 - val_accuracy: 0.9277 - lr: 3.0000e-05 - 9s/epoch - 14ms/step\n",
            "Epoch 48/100\n",
            "620/620 - 9s - loss: 0.0861 - accuracy: 0.9751 - val_loss: 0.2083 - val_accuracy: 0.9399 - lr: 3.0000e-05 - 9s/epoch - 14ms/step\n",
            "Epoch 49/100\n",
            "620/620 - 9s - loss: 0.0849 - accuracy: 0.9755 - val_loss: 0.2026 - val_accuracy: 0.9419 - lr: 3.0000e-05 - 9s/epoch - 14ms/step\n",
            "Epoch 50/100\n",
            "620/620 - 9s - loss: 0.0834 - accuracy: 0.9762 - val_loss: 0.2207 - val_accuracy: 0.9368 - lr: 3.0000e-05 - 9s/epoch - 14ms/step\n",
            "Epoch 51/100\n",
            "620/620 - 9s - loss: 0.0809 - accuracy: 0.9771 - val_loss: 0.1834 - val_accuracy: 0.9497 - lr: 3.0000e-05 - 9s/epoch - 14ms/step\n",
            "Epoch 52/100\n",
            "620/620 - 9s - loss: 0.0796 - accuracy: 0.9775 - val_loss: 0.2587 - val_accuracy: 0.9243 - lr: 3.0000e-05 - 9s/epoch - 14ms/step\n",
            "Epoch 53/100\n",
            "620/620 - 9s - loss: 0.0794 - accuracy: 0.9772 - val_loss: 0.2086 - val_accuracy: 0.9407 - lr: 3.0000e-05 - 9s/epoch - 14ms/step\n",
            "Epoch 54/100\n",
            "620/620 - 9s - loss: 0.0763 - accuracy: 0.9787 - val_loss: 0.1886 - val_accuracy: 0.9485 - lr: 3.0000e-05 - 9s/epoch - 15ms/step\n",
            "Epoch 55/100\n",
            "620/620 - 9s - loss: 0.0758 - accuracy: 0.9787 - val_loss: 0.2281 - val_accuracy: 0.9343 - lr: 3.0000e-05 - 9s/epoch - 14ms/step\n",
            "Epoch 56/100\n",
            "620/620 - 9s - loss: 0.0741 - accuracy: 0.9790 - val_loss: 0.1952 - val_accuracy: 0.9466 - lr: 3.0000e-05 - 9s/epoch - 14ms/step\n",
            "Epoch 57/100\n",
            "620/620 - 9s - loss: 0.0732 - accuracy: 0.9794 - val_loss: 0.1951 - val_accuracy: 0.9459 - lr: 3.0000e-05 - 9s/epoch - 15ms/step\n",
            "Epoch 58/100\n",
            "620/620 - 9s - loss: 0.0719 - accuracy: 0.9796 - val_loss: 0.2250 - val_accuracy: 0.9357 - lr: 3.0000e-05 - 9s/epoch - 15ms/step\n",
            "Epoch 59/100\n",
            "620/620 - 9s - loss: 0.0695 - accuracy: 0.9807 - val_loss: 0.1858 - val_accuracy: 0.9487 - lr: 3.0000e-05 - 9s/epoch - 14ms/step\n",
            "Epoch 60/100\n",
            "620/620 - 9s - loss: 0.0685 - accuracy: 0.9810 - val_loss: 0.2713 - val_accuracy: 0.9217 - lr: 3.0000e-05 - 9s/epoch - 15ms/step\n",
            "Epoch 61/100\n",
            "620/620 - 9s - loss: 0.0687 - accuracy: 0.9809 - val_loss: 0.2093 - val_accuracy: 0.9430 - lr: 3.0000e-05 - 9s/epoch - 15ms/step\n",
            "Epoch 62/100\n",
            "620/620 - 9s - loss: 0.0674 - accuracy: 0.9811 - val_loss: 0.2100 - val_accuracy: 0.9420 - lr: 3.0000e-05 - 9s/epoch - 14ms/step\n",
            "Epoch 63/100\n",
            "620/620 - 9s - loss: 0.0650 - accuracy: 0.9822 - val_loss: 0.1704 - val_accuracy: 0.9549 - lr: 3.0000e-05 - 9s/epoch - 14ms/step\n",
            "Epoch 64/100\n",
            "620/620 - 9s - loss: 0.0653 - accuracy: 0.9820 - val_loss: 0.2173 - val_accuracy: 0.9401 - lr: 3.0000e-05 - 9s/epoch - 14ms/step\n",
            "Epoch 65/100\n",
            "620/620 - 9s - loss: 0.0629 - accuracy: 0.9827 - val_loss: 0.1682 - val_accuracy: 0.9558 - lr: 3.0000e-05 - 9s/epoch - 14ms/step\n",
            "Epoch 66/100\n",
            "620/620 - 9s - loss: 0.0624 - accuracy: 0.9827 - val_loss: 0.1607 - val_accuracy: 0.9590 - lr: 3.0000e-05 - 9s/epoch - 15ms/step\n",
            "Epoch 67/100\n",
            "620/620 - 9s - loss: 0.0617 - accuracy: 0.9831 - val_loss: 0.2432 - val_accuracy: 0.9317 - lr: 3.0000e-05 - 9s/epoch - 15ms/step\n",
            "Epoch 68/100\n",
            "620/620 - 9s - loss: 0.0606 - accuracy: 0.9831 - val_loss: 0.1750 - val_accuracy: 0.9540 - lr: 3.0000e-05 - 9s/epoch - 15ms/step\n",
            "Epoch 69/100\n",
            "620/620 - 9s - loss: 0.0597 - accuracy: 0.9838 - val_loss: 0.1913 - val_accuracy: 0.9499 - lr: 3.0000e-05 - 9s/epoch - 14ms/step\n",
            "Epoch 70/100\n",
            "620/620 - 9s - loss: 0.0587 - accuracy: 0.9840 - val_loss: 0.1915 - val_accuracy: 0.9496 - lr: 3.0000e-05 - 9s/epoch - 14ms/step\n",
            "Epoch 71/100\n",
            "620/620 - 9s - loss: 0.0575 - accuracy: 0.9844 - val_loss: 0.1719 - val_accuracy: 0.9552 - lr: 3.0000e-05 - 9s/epoch - 14ms/step\n",
            "Epoch 72/100\n",
            "620/620 - 9s - loss: 0.0579 - accuracy: 0.9841 - val_loss: 0.1744 - val_accuracy: 0.9543 - lr: 3.0000e-05 - 9s/epoch - 15ms/step\n",
            "Epoch 73/100\n",
            "620/620 - 9s - loss: 0.0549 - accuracy: 0.9854 - val_loss: 0.1806 - val_accuracy: 0.9542 - lr: 3.0000e-05 - 9s/epoch - 15ms/step\n",
            "Epoch 74/100\n",
            "620/620 - 9s - loss: 0.0558 - accuracy: 0.9848 - val_loss: 0.1595 - val_accuracy: 0.9600 - lr: 3.0000e-05 - 9s/epoch - 14ms/step\n",
            "Epoch 75/100\n",
            "620/620 - 9s - loss: 0.0542 - accuracy: 0.9855 - val_loss: 0.1753 - val_accuracy: 0.9549 - lr: 3.0000e-05 - 9s/epoch - 15ms/step\n",
            "Epoch 76/100\n",
            "620/620 - 9s - loss: 0.0534 - accuracy: 0.9857 - val_loss: 0.2113 - val_accuracy: 0.9440 - lr: 3.0000e-05 - 9s/epoch - 14ms/step\n",
            "Epoch 77/100\n",
            "620/620 - 9s - loss: 0.0536 - accuracy: 0.9855 - val_loss: 0.1517 - val_accuracy: 0.9624 - lr: 3.0000e-05 - 9s/epoch - 14ms/step\n",
            "Epoch 78/100\n",
            "620/620 - 9s - loss: 0.0521 - accuracy: 0.9860 - val_loss: 0.1812 - val_accuracy: 0.9529 - lr: 3.0000e-05 - 9s/epoch - 15ms/step\n",
            "Epoch 79/100\n",
            "620/620 - 9s - loss: 0.0518 - accuracy: 0.9860 - val_loss: 0.2037 - val_accuracy: 0.9465 - lr: 3.0000e-05 - 9s/epoch - 14ms/step\n",
            "Epoch 80/100\n",
            "620/620 - 9s - loss: 0.0507 - accuracy: 0.9864 - val_loss: 0.2117 - val_accuracy: 0.9439 - lr: 3.0000e-05 - 9s/epoch - 14ms/step\n",
            "Epoch 81/100\n",
            "620/620 - 9s - loss: 0.0501 - accuracy: 0.9865 - val_loss: 0.2127 - val_accuracy: 0.9442 - lr: 3.0000e-05 - 9s/epoch - 15ms/step\n",
            "Epoch 82/100\n",
            "620/620 - 9s - loss: 0.0496 - accuracy: 0.9866 - val_loss: 0.1684 - val_accuracy: 0.9582 - lr: 3.0000e-05 - 9s/epoch - 15ms/step\n",
            "Epoch 83/100\n",
            "620/620 - 9s - loss: 0.0488 - accuracy: 0.9868 - val_loss: 0.1783 - val_accuracy: 0.9554 - lr: 3.0000e-05 - 9s/epoch - 14ms/step\n",
            "Epoch 84/100\n",
            "620/620 - 9s - loss: 0.0487 - accuracy: 0.9869 - val_loss: 0.1775 - val_accuracy: 0.9565 - lr: 3.0000e-05 - 9s/epoch - 15ms/step\n",
            "Epoch 85/100\n",
            "620/620 - 9s - loss: 0.0465 - accuracy: 0.9878 - val_loss: 0.1729 - val_accuracy: 0.9582 - lr: 3.0000e-05 - 9s/epoch - 15ms/step\n",
            "Epoch 86/100\n",
            "620/620 - 9s - loss: 0.0460 - accuracy: 0.9879 - val_loss: 0.1620 - val_accuracy: 0.9613 - lr: 3.0000e-05 - 9s/epoch - 14ms/step\n",
            "Epoch 87/100\n",
            "620/620 - 9s - loss: 0.0469 - accuracy: 0.9873 - val_loss: 0.2143 - val_accuracy: 0.9443 - lr: 3.0000e-05 - 9s/epoch - 15ms/step\n",
            "Epoch 88/100\n",
            "620/620 - 9s - loss: 0.0461 - accuracy: 0.9877 - val_loss: 0.1630 - val_accuracy: 0.9624 - lr: 3.0000e-05 - 9s/epoch - 15ms/step\n",
            "Epoch 89/100\n",
            "620/620 - 9s - loss: 0.0451 - accuracy: 0.9881 - val_loss: 0.2147 - val_accuracy: 0.9453 - lr: 3.0000e-05 - 9s/epoch - 15ms/step\n",
            "Epoch 90/100\n",
            "620/620 - 9s - loss: 0.0436 - accuracy: 0.9883 - val_loss: 0.1685 - val_accuracy: 0.9594 - lr: 3.0000e-05 - 9s/epoch - 15ms/step\n",
            "Epoch 91/100\n",
            "620/620 - 9s - loss: 0.0442 - accuracy: 0.9882 - val_loss: 0.1821 - val_accuracy: 0.9554 - lr: 3.0000e-05 - 9s/epoch - 14ms/step\n",
            "Epoch 92/100\n",
            "620/620 - 9s - loss: 0.0433 - accuracy: 0.9884 - val_loss: 0.1975 - val_accuracy: 0.9512 - lr: 3.0000e-05 - 9s/epoch - 15ms/step\n",
            "Epoch 93/100\n",
            "620/620 - 9s - loss: 0.0423 - accuracy: 0.9889 - val_loss: 0.1957 - val_accuracy: 0.9518 - lr: 3.0000e-05 - 9s/epoch - 15ms/step\n",
            "Epoch 94/100\n",
            "620/620 - 9s - loss: 0.0425 - accuracy: 0.9887 - val_loss: 0.1603 - val_accuracy: 0.9625 - lr: 3.0000e-05 - 9s/epoch - 15ms/step\n",
            "Epoch 95/100\n",
            "620/620 - 9s - loss: 0.0407 - accuracy: 0.9893 - val_loss: 0.1823 - val_accuracy: 0.9572 - lr: 3.0000e-05 - 9s/epoch - 15ms/step\n",
            "Epoch 96/100\n",
            "620/620 - 9s - loss: 0.0408 - accuracy: 0.9890 - val_loss: 0.1911 - val_accuracy: 0.9534 - lr: 3.0000e-05 - 9s/epoch - 14ms/step\n",
            "Epoch 97/100\n",
            "620/620 - 9s - loss: 0.0407 - accuracy: 0.9893 - val_loss: 0.1788 - val_accuracy: 0.9577 - lr: 3.0000e-05 - 9s/epoch - 14ms/step\n",
            "Epoch 98/100\n",
            "620/620 - 9s - loss: 0.0399 - accuracy: 0.9895 - val_loss: 0.1921 - val_accuracy: 0.9534 - lr: 3.0000e-05 - 9s/epoch - 14ms/step\n",
            "Epoch 99/100\n",
            "620/620 - 9s - loss: 0.0398 - accuracy: 0.9895 - val_loss: 0.1600 - val_accuracy: 0.9635 - lr: 3.0000e-05 - 9s/epoch - 14ms/step\n",
            "Epoch 100/100\n",
            "620/620 - 9s - loss: 0.0385 - accuracy: 0.9899 - val_loss: 0.1574 - val_accuracy: 0.9649 - lr: 3.0000e-05 - 9s/epoch - 14ms/step\n"
          ]
        }
      ]
    },
    {
      "cell_type": "markdown",
      "metadata": {
        "id": "IERs2kjD4xco"
      },
      "source": [
        "Calculating the metrics values towards test data\n"
      ]
    },
    {
      "cell_type": "code",
      "metadata": {
        "id": "I5SnZoAth-hm",
        "outputId": "86f73fb4-824d-4ff5-b65e-569a7b2b3f18",
        "colab": {
          "base_uri": "https://localhost:8080/"
        }
      },
      "source": [
        "y_pred = model.predict(X_test, batch_size=1000)\n",
        "print(classification_report(y_test.argmax(axis=1), y_pred.argmax(axis=1)))\n",
        "print('Accuracy', accuracy_score(y_test.argmax(axis=1), y_pred.argmax(axis=1)))\n",
        "#print('ROC AUC score:', roc_auc_score(y_test.argmax(axis=1), y_pred.argmax(axis=1)))\n",
        "print('confusion matrix:')\n",
        "print(confusion_matrix(y_test.argmax(axis=1), y_pred.argmax(axis=1)))"
      ],
      "execution_count": 18,
      "outputs": [
        {
          "output_type": "stream",
          "name": "stdout",
          "text": [
            "33/33 [==============================] - 1s 15ms/step\n",
            "              precision    recall  f1-score   support\n",
            "\n",
            "           0       0.99      0.97      0.98     27177\n",
            "           1       0.56      0.84      0.67       833\n",
            "           2       0.90      0.95      0.92      2171\n",
            "           3       0.70      0.77      0.73       241\n",
            "           4       0.98      0.98      0.98      2412\n",
            "\n",
            "    accuracy                           0.96     32834\n",
            "   macro avg       0.83      0.90      0.86     32834\n",
            "weighted avg       0.97      0.96      0.97     32834\n",
            "\n",
            "Accuracy 0.9649448742157519\n",
            "confusion matrix:\n",
            "[[26372   521   179    58    47]\n",
            " [  121   698    10     1     3]\n",
            " [   78    15  2054    21     3]\n",
            " [   25     0    30   186     0]\n",
            " [   26     3    10     0  2373]]\n"
          ]
        }
      ]
    },
    {
      "cell_type": "code",
      "metadata": {
        "id": "of8YO-jYzZdU",
        "outputId": "5a11bb27-4065-48c1-d25d-0d6bbd168f88",
        "colab": {
          "base_uri": "https://localhost:8080/",
          "height": 451
        }
      },
      "source": [
        "import seaborn as sns\n",
        "cm = confusion_matrix(y_test.argmax(axis=1), y_pred.argmax(axis=1))\n",
        "sns.heatmap(cm/np.sum(cm), annot=True, fmt='.2%', cmap='OrRd')"
      ],
      "execution_count": 19,
      "outputs": [
        {
          "output_type": "execute_result",
          "data": {
            "text/plain": [
              "<Axes: >"
            ]
          },
          "metadata": {},
          "execution_count": 19
        },
        {
          "output_type": "display_data",
          "data": {
            "text/plain": [
              "<Figure size 640x480 with 2 Axes>"
            ],
            "image/png": "[encoded data removed]"
          },
          "metadata": {}
        }
      ]
    },
    {
      "cell_type": "markdown",
      "source": [
        " Visualisation"
      ],
      "metadata": {
        "id": "ylNdH5h9hfGd"
      }
    },
    {
      "cell_type": "code",
      "source": [
        "plt.plot(history.history['accuracy'])\n",
        "plt.plot(history.history['val_accuracy'])\n",
        "plt.xlabel('Epochs')\n",
        "plt.ylabel('Accuracy')\n",
        "plt.title('ACCURACY CURVE')\n",
        "plt.legend(['accuracy','val_accuracy'], loc='best')\n",
        "plt.show()"
      ],
      "metadata": {
        "colab": {
          "base_uri": "https://localhost:8080/",
          "height": 472
        },
        "id": "Vzkk4p123O3r",
        "outputId": "f9756631-e0ac-4550-989b-551bd4c399ac"
      },
      "execution_count": 28,
      "outputs": [
        {
          "output_type": "display_data",
          "data": {
            "text/plain": [
              "<Figure size 640x480 with 1 Axes>"
            ],
            "image/png": "[encoded data removed]"
          },
          "metadata": {}
        }
      ]
    },
    {
      "cell_type": "code",
      "source": [
        "plt.plot(history.history['loss'])\n",
        "plt.plot(history.history['val_loss'])\n",
        "plt.xlabel('Epochs')\n",
        "plt.ylabel('Loss')\n",
        "plt.title('LOSS CURVE')\n",
        "plt.legend(['loss','val_loss'], loc='best')\n",
        "plt.show()"
      ],
      "metadata": {
        "colab": {
          "base_uri": "https://localhost:8080/",
          "height": 472
        },
        "id": "4bAfWfaf3QAV",
        "outputId": "3b6900aa-be70-465b-ae01-dd7b699f6885"
      },
      "execution_count": 29,
      "outputs": [
        {
          "output_type": "display_data",
          "data": {
            "text/plain": [
              "<Figure size 640x480 with 1 Axes>"
            ],
            "image/png": "[encoded data removed]"
          },
          "metadata": {}
        }
      ]
    },
    {
      "cell_type": "markdown",
      "metadata": {
        "id": "473HgM9x415n"
      },
      "source": [
        "Saving the trained model"
      ]
    },
    {
      "cell_type": "code",
      "metadata": {
        "id": "9bhGBfMRh-pW",
        "outputId": "a9d1f45d-e5a1-4511-9a2d-6aeebac04b8d",
        "colab": {
          "base_uri": "https://localhost:8080/"
        }
      },
      "source": [
        "model.save('/content/drive/My Drive/model.h5')\n",
        "print('saved the model to disk')"
      ],
      "execution_count": 22,
      "outputs": [
        {
          "output_type": "stream",
          "name": "stdout",
          "text": [
            "saved the model to disk\n"
          ]
        }
      ]
    },
    {
      "cell_type": "markdown",
      "metadata": {
        "id": "a5NnGtr946qP"
      },
      "source": [
        "Evaluating with extracted samples"
      ]
    },
    {
      "cell_type": "code",
      "metadata": {
        "id": "ZZjM0PQDh-k_",
        "colab": {
          "base_uri": "https://localhost:8080/"
        },
        "outputId": "4340ea18-6e48-4ca3-ec06-f341240cca21"
      },
      "source": [
        "test = pd.read_csv('/content/drive/My Drive/ECG Project/testdata.csv', header=None)\n",
        "p=test.iloc[:,:]\n",
        "p=np.expand_dims(p, 2)\n",
        "test_pred = model.predict(p)"
      ],
      "execution_count": 23,
      "outputs": [
        {
          "output_type": "stream",
          "name": "stdout",
          "text": [
            "1/1 [==============================] - 0s 128ms/step\n"
          ]
        }
      ]
    },
    {
      "cell_type": "code",
      "metadata": {
        "id": "Knpnw3BHdBlz",
        "outputId": "514f21b7-802b-4f2c-b3f4-43a89a59326c",
        "colab": {
          "base_uri": "https://localhost:8080/",
          "height": 141
        }
      },
      "source": [
        "test"
      ],
      "execution_count": 24,
      "outputs": [
        {
          "output_type": "execute_result",
          "data": {
            "text/plain": [
              "     0      1      2      3      4      5      6      7      8      9    ...  \\\n",
              "0  0.836  0.951  0.984  0.672  0.197  0.197  0.262  0.328  0.344  0.393  ...   \n",
              "1  0.557  0.541  0.541  0.508  0.492  0.475  0.459  0.459  0.443  0.443  ...   \n",
              "\n",
              "   177  178  179  180  181  182  183  184  185  186  \n",
              "0    0    0    0    0    0    0    0    0    0    0  \n",
              "1    0    0    0    0    0    0    0    0    0    0  \n",
              "\n",
              "[2 rows x 187 columns]"
            ],
            "text/html": [
              "\n",
              "  <div id=\"df-ac27df29-1075-4da0-b774-299ff64606f5\" class=\"colab-df-container\">\n",
              "    <div>\n",
              "<style scoped>\n",
              "    .dataframe tbody tr th:only-of-type {\n",
              "        vertical-align: middle;\n",
              "    }\n",
              "\n",
              "    .dataframe tbody tr th {\n",
              "        vertical-align: top;\n",
              "    }\n",
              "\n",
              "    .dataframe thead th {\n",
              "        text-align: right;\n",
              "    }\n",
              "</style>\n",
              "<table border=\"1\" class=\"dataframe\">\n",
              "  <thead>\n",
              "    <tr style=\"text-align: right;\">\n",
              "      <th></th>\n",
              "      <th>0</th>\n",
              "      <th>1</th>\n",
              "      <th>2</th>\n",
              "      <th>3</th>\n",
              "      <th>4</th>\n",
              "      <th>5</th>\n",
              "      <th>6</th>\n",
              "      <th>7</th>\n",
              "      <th>8</th>\n",
              "      <th>9</th>\n",
              "      <th>...</th>\n",
              "      <th>177</th>\n",
              "      <th>178</th>\n",
              "      <th>179</th>\n",
              "      <th>180</th>\n",
              "      <th>181</th>\n",
              "      <th>182</th>\n",
              "      <th>183</th>\n",
              "      <th>184</th>\n",
              "      <th>185</th>\n",
              "      <th>186</th>\n",
              "    </tr>\n",
              "  </thead>\n",
              "  <tbody>\n",
              "    <tr>\n",
              "      <th>0</th>\n",
              "      <td>0.836</td>\n",
              "      <td>0.951</td>\n",
              "      <td>0.984</td>\n",
              "      <td>0.672</td>\n",
              "      <td>0.197</td>\n",
              "      <td>0.197</td>\n",
              "      <td>0.262</td>\n",
              "      <td>0.328</td>\n",
              "      <td>0.344</td>\n",
              "      <td>0.393</td>\n",
              "      <td>...</td>\n",
              "      <td>0</td>\n",
              "      <td>0</td>\n",
              "      <td>0</td>\n",
              "      <td>0</td>\n",
              "      <td>0</td>\n",
              "      <td>0</td>\n",
              "      <td>0</td>\n",
              "      <td>0</td>\n",
              "      <td>0</td>\n",
              "      <td>0</td>\n",
              "    </tr>\n",
              "    <tr>\n",
              "      <th>1</th>\n",
              "      <td>0.557</td>\n",
              "      <td>0.541</td>\n",
              "      <td>0.541</td>\n",
              "      <td>0.508</td>\n",
              "      <td>0.492</td>\n",
              "      <td>0.475</td>\n",
              "      <td>0.459</td>\n",
              "      <td>0.459</td>\n",
              "      <td>0.443</td>\n",
              "      <td>0.443</td>\n",
              "      <td>...</td>\n",
              "      <td>0</td>\n",
              "      <td>0</td>\n",
              "      <td>0</td>\n",
              "      <td>0</td>\n",
              "      <td>0</td>\n",
              "      <td>0</td>\n",
              "      <td>0</td>\n",
              "      <td>0</td>\n",
              "      <td>0</td>\n",
              "      <td>0</td>\n",
              "    </tr>\n",
              "  </tbody>\n",
              "</table>\n",
              "<p>2 rows × 187 columns</p>\n",
              "</div>\n",
              "    <div class=\"colab-df-buttons\">\n",
              "\n",
              "  <div class=\"colab-df-container\">\n",
              "    <button class=\"colab-df-convert\" onclick=\"convertToInteractive('df-ac27df29-1075-4da0-b774-299ff64606f5')\"\n",
              "            title=\"Convert this dataframe to an interactive table.\"\n",
              "            style=\"display:none;\">\n",
              "\n",
              "  <svg xmlns=\"http://www.w3.org/2000/svg\" height=\"24px\" viewBox=\"0 -960 960 960\">\n",
              "    <path d=\"M120-120v-720h720v720H120Zm60-500h600v-160H180v160Zm220 220h160v-160H400v160Zm0 220h160v-160H400v160ZM180-400h160v-160H180v160Zm440 0h160v-160H620v160ZM180-180h160v-160H180v160Zm440 0h160v-160H620v160Z\"/>\n",
              "  </svg>\n",
              "    </button>\n",
              "\n",
              "  <style>\n",
              "    .colab-df-container {\n",
              "      display:flex;\n",
              "      gap: 12px;\n",
              "    }\n",
              "\n",
              "    .colab-df-convert {\n",
              "      background-color: #E8F0FE;\n",
              "      border: none;\n",
              "      border-radius: 50%;\n",
              "      cursor: pointer;\n",
              "      display: none;\n",
              "      fill: #1967D2;\n",
              "      height: 32px;\n",
              "      padding: 0 0 0 0;\n",
              "      width: 32px;\n",
              "    }\n",
              "\n",
              "    .colab-df-convert:hover {\n",
              "      background-color: #E2EBFA;\n",
              "      box-shadow: 0px 1px 2px rgba(60, 64, 67, 0.3), 0px 1px 3px 1px rgba(60, 64, 67, 0.15);\n",
              "      fill: #174EA6;\n",
              "    }\n",
              "\n",
              "    .colab-df-buttons div {\n",
              "      margin-bottom: 4px;\n",
              "    }\n",
              "\n",
              "    [theme=dark] .colab-df-convert {\n",
              "      background-color: #3B4455;\n",
              "      fill: #D2E3FC;\n",
              "    }\n",
              "\n",
              "    [theme=dark] .colab-df-convert:hover {\n",
              "      background-color: #434B5C;\n",
              "      box-shadow: 0px 1px 3px 1px rgba(0, 0, 0, 0.15);\n",
              "      filter: drop-shadow(0px 1px 2px rgba(0, 0, 0, 0.3));\n",
              "      fill: #FFFFFF;\n",
              "    }\n",
              "  </style>\n",
              "\n",
              "    <script>\n",
              "      const buttonEl =\n",
              "        document.querySelector('#df-ac27df29-1075-4da0-b774-299ff64606f5 button.colab-df-convert');\n",
              "      buttonEl.style.display =\n",
              "        google.colab.kernel.accessAllowed ? 'block' : 'none';\n",
              "\n",
              "      async function convertToInteractive(key) {\n",
              "        const element = document.querySelector('#df-ac27df29-1075-4da0-b774-299ff64606f5');\n",
              "        const dataTable =\n",
              "          await google.colab.kernel.invokeFunction('convertToInteractive',\n",
              "                                                    [key], {});\n",
              "        if (!dataTable) return;\n",
              "\n",
              "        const docLinkHtml = 'Like what you see? Visit the ' +\n",
              "          '<a target=\"_blank\" href=https://colab.research.google.com/notebooks/data_table.ipynb>data table notebook</a>'\n",
              "          + ' to learn more about interactive tables.';\n",
              "        element.innerHTML = '';\n",
              "        dataTable['output_type'] = 'display_data';\n",
              "        await google.colab.output.renderOutput(dataTable, element);\n",
              "        const docLink = document.createElement('div');\n",
              "        docLink.innerHTML = docLinkHtml;\n",
              "        element.appendChild(docLink);\n",
              "      }\n",
              "    </script>\n",
              "  </div>\n",
              "\n",
              "\n",
              "<div id=\"df-5fd4a9fb-d8e9-4309-9e43-621773f34bab\">\n",
              "  <button class=\"colab-df-quickchart\" onclick=\"quickchart('df-5fd4a9fb-d8e9-4309-9e43-621773f34bab')\"\n",
              "            title=\"Suggest charts.\"\n",
              "            style=\"display:none;\">\n",
              "\n",
              "<svg xmlns=\"http://www.w3.org/2000/svg\" height=\"24px\"viewBox=\"0 0 24 24\"\n",
              "     width=\"24px\">\n",
              "    <g>\n",
              "        <path d=\"M19 3H5c-1.1 0-2 .9-2 2v14c0 1.1.9 2 2 2h14c1.1 0 2-.9 2-2V5c0-1.1-.9-2-2-2zM9 17H7v-7h2v7zm4 0h-2V7h2v10zm4 0h-2v-4h2v4z\"/>\n",
              "    </g>\n",
              "</svg>\n",
              "  </button>\n",
              "\n",
              "<style>\n",
              "  .colab-df-quickchart {\n",
              "    background-color: #E8F0FE;\n",
              "    border: none;\n",
              "    border-radius: 50%;\n",
              "    cursor: pointer;\n",
              "    display: none;\n",
              "    fill: #1967D2;\n",
              "    height: 32px;\n",
              "    padding: 0 0 0 0;\n",
              "    width: 32px;\n",
              "  }\n",
              "\n",
              "  .colab-df-quickchart:hover {\n",
              "    background-color: #E2EBFA;\n",
              "    box-shadow: 0px 1px 2px rgba(60, 64, 67, 0.3), 0px 1px 3px 1px rgba(60, 64, 67, 0.15);\n",
              "    fill: #174EA6;\n",
              "  }\n",
              "\n",
              "  [theme=dark] .colab-df-quickchart {\n",
              "    background-color: #3B4455;\n",
              "    fill: #D2E3FC;\n",
              "  }\n",
              "\n",
              "  [theme=dark] .colab-df-quickchart:hover {\n",
              "    background-color: #434B5C;\n",
              "    box-shadow: 0px 1px 3px 1px rgba(0, 0, 0, 0.15);\n",
              "    filter: drop-shadow(0px 1px 2px rgba(0, 0, 0, 0.3));\n",
              "    fill: #FFFFFF;\n",
              "  }\n",
              "</style>\n",
              "\n",
              "  <script>\n",
              "    async function quickchart(key) {\n",
              "      const charts = await google.colab.kernel.invokeFunction(\n",
              "          'suggestCharts', [key], {});\n",
              "    }\n",
              "    (() => {\n",
              "      let quickchartButtonEl =\n",
              "        document.querySelector('#df-5fd4a9fb-d8e9-4309-9e43-621773f34bab button');\n",
              "      quickchartButtonEl.style.display =\n",
              "        google.colab.kernel.accessAllowed ? 'block' : 'none';\n",
              "    })();\n",
              "  </script>\n",
              "</div>\n",
              "    </div>\n",
              "  </div>\n"
            ]
          },
          "metadata": {},
          "execution_count": 24
        }
      ]
    },
    {
      "cell_type": "code",
      "metadata": {
        "id": "rJVY3tKEQTkF",
        "outputId": "ea214e0c-ff4a-49de-872b-82f82ae2b3a0",
        "colab": {
          "base_uri": "https://localhost:8080/",
          "height": 447
        }
      },
      "source": [
        "plt.plot(test.iloc[0,:186])"
      ],
      "execution_count": 25,
      "outputs": [
        {
          "output_type": "execute_result",
          "data": {
            "text/plain": [
              "[<matplotlib.lines.Line2D at 0x796de3501600>]"
            ]
          },
          "metadata": {},
          "execution_count": 25
        },
        {
          "output_type": "display_data",
          "data": {
            "text/plain": [
              "<Figure size 640x480 with 1 Axes>"
            ],
            "image/png": "[encoded data removed]"
          },
          "metadata": {}
        }
      ]
    },
    {
      "cell_type": "code",
      "metadata": {
        "id": "sgL9q2TRyFC-",
        "outputId": "08f6a07d-f26a-4c47-de9a-caf3ab6301c8",
        "colab": {
          "base_uri": "https://localhost:8080/",
          "height": 447
        }
      },
      "source": [
        "plt.plot(test.iloc[1,:186])"
      ],
      "execution_count": 26,
      "outputs": [
        {
          "output_type": "execute_result",
          "data": {
            "text/plain": [
              "[<matplotlib.lines.Line2D at 0x796de336d630>]"
            ]
          },
          "metadata": {},
          "execution_count": 26
        },
        {
          "output_type": "display_data",
          "data": {
            "text/plain": [
              "<Figure size 640x480 with 1 Axes>"
            ],
            "image/png": "[encoded data removed]"
          },
          "metadata": {}
        }
      ]
    },
    {
      "cell_type": "code",
      "metadata": {
        "id": "1YM1cg6odBeR",
        "outputId": "d403bab8-a399-440e-8456-70eb6586a81e",
        "colab": {
          "base_uri": "https://localhost:8080/"
        }
      },
      "source": [
        "test_pred.argmax(axis=1)"
      ],
      "execution_count": 27,
      "outputs": [
        {
          "output_type": "execute_result",
          "data": {
            "text/plain": [
              "array([0, 0])"
            ]
          },
          "metadata": {},
          "execution_count": 27
        }
      ]
    },
    {
      "cell_type": "code",
      "metadata": {
        "id": "yrUP_WtaQ2St"
      },
      "source": [],
      "execution_count": 27,
      "outputs": []
    }
  ]
}